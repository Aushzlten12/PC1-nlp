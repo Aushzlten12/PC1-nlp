{
 "cells": [
  {
   "cell_type": "markdown",
   "id": "55bbc46d",
   "metadata": {},
   "source": [
    "# Proyecto 2: Optimización de carga de datos\n"
   ]
  },
  {
   "cell_type": "markdown",
   "id": "a212a07b",
   "metadata": {},
   "source": [
    "Se pide que :\n",
    "\n",
    "- Compara Pandas vs. PyTorch DataLoader para cargar nlp_prueba_cc0c2_large.csv (10,000 oraciones). \n",
    "- Mide tiempo y RAM (con psutil) para lectura completa vs. batching (batch_size=32). \n",
    "- Usa collate_fn para padding simple. \n",
    "- Fija semillas."
   ]
  },
  {
   "cell_type": "code",
   "execution_count": 2,
   "id": "28a7d2f5",
   "metadata": {},
   "outputs": [],
   "source": [
    "import pandas as pd\n",
    "import numpy as np\n",
    "\n",
    "import torch\n",
    "from torch.utils.data import Dataset, DataLoader\n",
    "from torch.nn.utils.rnn import pad_sequence\n",
    "\n",
    "import psutil\n",
    "import time\n",
    "\n",
    "import random\n",
    "\n",
    "import matplotlib.pyplot as plt\n",
    "import seaborn as sns\n",
    "from tqdm import tqdm"
   ]
  },
  {
   "cell_type": "code",
   "execution_count": 4,
   "id": "52a6b0f5",
   "metadata": {},
   "outputs": [
    {
     "name": "stdout",
     "output_type": "stream",
     "text": [
      "{'python': '3.12.3 (tags/v3.12.3:f6650f9, Apr  9 2024, 14:05:25) [MSC v.1938 64 bit (AMD64)]', 'pandas': '2.2.2', 'numpy': '1.26.4', 'torch': '2.3.1+cpu', 'psutil': '5.9.8'}\n"
     ]
    }
   ],
   "source": [
    "import os, sys, time, math, re\n",
    "\n",
    "def set_seeds(seed: int = 42):\n",
    "    random.seed(seed)\n",
    "    np.random.seed(seed)\n",
    "    torch.manual_seed(seed)\n",
    "    g = torch.Generator()\n",
    "    g.manual_seed(seed)\n",
    "    return g\n",
    "  \n",
    "SEED = 42\n",
    "GENERATOR = set_seeds(SEED)\n",
    "\n",
    "print({\n",
    "    \"python\": sys.version,\n",
    "    \"pandas\": pd.__version__,\n",
    "    \"numpy\": np.__version__,\n",
    "    \"torch\": torch.__version__,\n",
    "    \"psutil\": psutil.__version__,\n",
    "})"
   ]
  },
  {
   "cell_type": "code",
   "execution_count": 14,
   "id": "9738cc6f",
   "metadata": {},
   "outputs": [],
   "source": [
    "# Primero debemos de leer el dataset csv\n",
    "\n",
    "CSV_PATH = \"data/nlp_prueba_cc0c2_large.csv\"\n",
    "COL_DATA = \"Texto\"\n",
    "LABEL_COL = \"Categoría\"\n",
    "BATCH_SIZE = 32\n",
    "\n",
    "LABEL2ID = {\"Negativo\": 0, \"Neutral\": 1, \"Positivo\": 2}\n",
    "ID2LABEL = {v:k for k,v in LABEL2ID.items()}\n",
    "\n",
    "PAD_TOKEN = \"<pad>\"\n",
    "UNK_TOKEN = \"<unk>\"\n",
    "\n",
    "# Tokenizer simple \n",
    "tokenizer_regex = re.compile(\n",
    "    r\"[A-Za-zÁÉÍÓÚÜÑáéíóúüñ]+(?:[-'][A-Za-zÁÉÍÓÚÜÑáéíóúüñ]+)*|\\d+(?:[.,]\\d+)?\"\n",
    ")\n",
    "\n",
    "def simple_tokenize(text: str):\n",
    "    return tokenizer_regex.findall(str(text))\n",
    "\n",
    "def build_vocab_from_texts(texts, min_freq: int = 1):\n",
    "    from collections import Counter\n",
    "    cnt = Counter()\n",
    "    for t in texts:\n",
    "        cnt.update(simple_tokenize(t))\n",
    "    # Orden por frecuencia desc y luego alfabético\n",
    "    vocab_list = [PAD_TOKEN, UNK_TOKEN] + [tok for tok, f in sorted(cnt.items(), key=lambda x: (-x[1], x[0])) if f >= min_freq]\n",
    "    stoi = {tok: i for i, tok in enumerate(vocab_list)}\n",
    "    itos = {i: tok for tok, i in stoi.items()}\n",
    "    return stoi, itos\n",
    "\n",
    "def numericalize(tokens, stoi):\n",
    "    unk_id = stoi.get(UNK_TOKEN, 1)\n",
    "    return [stoi.get(tok, unk_id) for tok in tokens]"
   ]
  },
  {
   "cell_type": "code",
   "execution_count": 18,
   "id": "f3a04868",
   "metadata": {},
   "outputs": [
    {
     "name": "stdout",
     "output_type": "stream",
     "text": [
      "Vocab size: 73, clases: 3, muestras: 10005\n"
     ]
    }
   ],
   "source": [
    "df = pd.read_csv(CSV_PATH)\n",
    "\n",
    "assert {COL_DATA, LABEL_COL}.issubset(df.columns), f\"El CSV debe tener columnas: {TEXT_COL}, {LABEL_COL}\"\n",
    "\n",
    "texts = df[COL_DATA].astype(str).tolist()\n",
    "labels = df[LABEL_COL].map(LABEL2ID).astype(int).tolist()\n",
    "\n",
    "stoi, itos = build_vocab_from_texts(texts, min_freq=1)\n",
    "PAD_ID = stoi[PAD_TOKEN]\n",
    "UNK_ID = stoi[UNK_TOKEN]\n",
    "\n",
    "vocab_size = len(stoi)\n",
    "num_classes = len(LABEL2ID)\n",
    "print(f\"Vocab size: {vocab_size}, clases: {num_classes}, muestras: {len(texts)}\")"
   ]
  },
  {
   "cell_type": "code",
   "execution_count": 13,
   "id": "18a791e3",
   "metadata": {},
   "outputs": [],
   "source": [
    "# Dataset Pytorch\n",
    "class CustomDataset(Dataset):\n",
    "    def __init__(self, texts, labels, stoi):\n",
    "        self.texts = texts\n",
    "        self.labels = labels\n",
    "        self.stoi = stoi\n",
    "    \n",
    "    def __len__(self):\n",
    "        return len(self.texts)\n",
    "    \n",
    "    def __getitem__(self, idx):\n",
    "        toks = simple_tokenize(self.texts[idx])\n",
    "        ids = numericalize(toks, self.stoi)\n",
    "        # Tensors\n",
    "        x = torch.tensor(ids, dtype=torch.long)\n",
    "        y = torch.tensor(self.labels[idx], dtype=torch.long)\n",
    "        return x, y\n",
    "\n",
    "def collate_pad(batch):\n",
    "    # batch: list of (tensor_ids, label)\n",
    "    xs, ys = zip(*batch)\n",
    "    lengths = torch.tensor([len(x) for x in xs], dtype=torch.long)\n",
    "    padded = pad_sequence(xs, batch_first=True, padding_value=PAD_ID)\n",
    "    ys = torch.stack(ys)\n",
    "    return padded, lengths, ys"
   ]
  },
  {
   "cell_type": "code",
   "execution_count": 19,
   "id": "a0053805",
   "metadata": {},
   "outputs": [
    {
     "name": "stdout",
     "output_type": "stream",
     "text": [
      "Batches esperados: 313\n"
     ]
    }
   ],
   "source": [
    "dataset_pytorch = CustomDataset(texts,labels,stoi)\n",
    "\n",
    "loader = DataLoader(\n",
    "    dataset_pytorch,\n",
    "    batch_size=BATCH_SIZE,\n",
    "    shuffle=True,                 # shuffling estable con GENERATOR\n",
    "    generator=GENERATOR,\n",
    "    collate_fn=collate_pad,\n",
    "    num_workers=0,                # puedes probar >0 si el entorno lo permite\n",
    "    pin_memory=False\n",
    ")\n",
    "\n",
    "# Para comparar también sin shuffle\n",
    "loader_noshuffle = DataLoader(\n",
    "    dataset_pytorch,\n",
    "    batch_size=BATCH_SIZE,\n",
    "    shuffle=False,\n",
    "    collate_fn=collate_pad,\n",
    "    num_workers=0,\n",
    "    pin_memory=False\n",
    ")\n",
    "\n",
    "len_batches = math.ceil(len(dataset_pytorch) / BATCH_SIZE)\n",
    "print(f\"Batches esperados: {len_batches}\")\n"
   ]
  },
  {
   "cell_type": "code",
   "execution_count": 24,
   "id": "a3ebe761",
   "metadata": {},
   "outputs": [],
   "source": [
    "proc = psutil.Process(os.getpid())\n",
    "\n",
    "def rss_mb():\n",
    "    return proc.memory_info().rss / (1024 ** 2)\n",
    "\n",
    "class Stopwatch:\n",
    "    def __enter__(self):\n",
    "        self.t0 = time.perf_counter()\n",
    "        return self\n",
    "    def __exit__(self, exc_type, exc, tb):\n",
    "        self.elapsed = time.perf_counter() - self.t0\n",
    "\n",
    "def run_and_measure_pandas_full(df, batch_size=32):\n",
    "    peak_mb = rss_mb()\n",
    "    t0 = time.perf_counter()\n",
    "    # Preprocesamiento completo en memoria\n",
    "    all_ids = [torch.tensor(numericalize(simple_tokenize(t), stoi), dtype=torch.long) for t in df[COL_DATA].astype(str)]\n",
    "    all_lbl = torch.tensor(df[LABEL_COL].map(LABEL2ID).astype(int).tolist())\n",
    "    peak_mb = max(peak_mb, rss_mb())\n",
    "    # Simular epoch iterando en batches\n",
    "    n = len(all_ids)\n",
    "    for i in range(0, n, batch_size):\n",
    "        xs = all_ids[i:i+batch_size]\n",
    "        ys = all_lbl[i:i+batch_size]\n",
    "        _ = pad_sequence(xs, batch_first=True, padding_value=PAD_ID)  # padding simple\n",
    "        # Simular cómputo ligero\n",
    "        _ = ys.sum().item()\n",
    "        peak_mb = max(peak_mb, rss_mb())\n",
    "    elapsed = time.perf_counter() - t0\n",
    "    return {\"time_s\": elapsed, \"peak_ram_mb\": peak_mb}\n",
    "\n",
    "def run_and_measure_pandas_streaming(csv_path, chunksize=32):\n",
    "    peak_mb = rss_mb()\n",
    "    t0 = time.perf_counter()\n",
    "    # Leer por chunks (streaming)\n",
    "    for chunk in pd.read_csv(csv_path, chunksize=chunksize):\n",
    "        texts_c = chunk[COL_DATA].astype(str).tolist()\n",
    "        labels_c = chunk[LABEL_COL].map(LABEL2ID).astype(int).tolist()\n",
    "        xs = [torch.tensor(numericalize(simple_tokenize(t), stoi), dtype=torch.long) for t in texts_c]\n",
    "        ys = torch.tensor(labels_c)\n",
    "        _ = pad_sequence(xs, batch_first=True, padding_value=PAD_ID)\n",
    "        _ = ys.sum().item()\n",
    "        peak_mb = max(peak_mb, rss_mb())\n",
    "    elapsed = time.perf_counter() - t0\n",
    "    return {\"time_s\": elapsed, \"peak_ram_mb\": peak_mb}\n",
    "\n",
    "def run_and_measure_torch_dataloader(dl):\n",
    "    peak_mb = rss_mb()\n",
    "    t0 = time.perf_counter()\n",
    "    for xb, lengths, yb in dl:\n",
    "        # Simular cómputo ligero\n",
    "        _ = (xb.sum() + yb.sum() + lengths.sum()).item()\n",
    "        peak_mb = max(peak_mb, rss_mb())\n",
    "    elapsed = time.perf_counter() - t0\n",
    "    return {\"time_s\": elapsed, \"peak_ram_mb\": peak_mb}"
   ]
  },
  {
   "cell_type": "code",
   "execution_count": 26,
   "id": "f5302932",
   "metadata": {},
   "outputs": [
    {
     "name": "stdout",
     "output_type": "stream",
     "text": [
      ">> Pandas (lectura completa en memoria) ...\n",
      "{'time_s': 0.17494710002210923, 'peak_ram_mb': 255.30078125}\n",
      "\n",
      ">> Pandas (streaming por chunksize) ...\n",
      "{'time_s': 0.9574515999993309, 'peak_ram_mb': 255.37109375}\n",
      "\n",
      ">> PyTorch DataLoader (shuffle=True) ...\n",
      "{'time_s': 0.2484444000001531, 'peak_ram_mb': 255.36328125}\n",
      "\n",
      ">> PyTorch DataLoader (shuffle=False) ...\n",
      "{'time_s': 0.2413620000006631, 'peak_ram_mb': 255.3671875}\n"
     ]
    },
    {
     "data": {
      "text/html": [
       "<div>\n",
       "<style scoped>\n",
       "    .dataframe tbody tr th:only-of-type {\n",
       "        vertical-align: middle;\n",
       "    }\n",
       "\n",
       "    .dataframe tbody tr th {\n",
       "        vertical-align: top;\n",
       "    }\n",
       "\n",
       "    .dataframe thead th {\n",
       "        text-align: right;\n",
       "    }\n",
       "</style>\n",
       "<table border=\"1\" class=\"dataframe\">\n",
       "  <thead>\n",
       "    <tr style=\"text-align: right;\">\n",
       "      <th></th>\n",
       "      <th>time_s</th>\n",
       "      <th>time_per_1k_samples_s</th>\n",
       "      <th>peak_ram_mb</th>\n",
       "    </tr>\n",
       "  </thead>\n",
       "  <tbody>\n",
       "    <tr>\n",
       "      <th>pandas_full</th>\n",
       "      <td>0.174947</td>\n",
       "      <td>0.017486</td>\n",
       "      <td>255.300781</td>\n",
       "    </tr>\n",
       "    <tr>\n",
       "      <th>pandas_stream</th>\n",
       "      <td>0.957452</td>\n",
       "      <td>0.095697</td>\n",
       "      <td>255.371094</td>\n",
       "    </tr>\n",
       "    <tr>\n",
       "      <th>dataloader_shuffle</th>\n",
       "      <td>0.248444</td>\n",
       "      <td>0.024832</td>\n",
       "      <td>255.363281</td>\n",
       "    </tr>\n",
       "    <tr>\n",
       "      <th>dataloader_noshuffle</th>\n",
       "      <td>0.241362</td>\n",
       "      <td>0.024124</td>\n",
       "      <td>255.367188</td>\n",
       "    </tr>\n",
       "  </tbody>\n",
       "</table>\n",
       "</div>"
      ],
      "text/plain": [
       "                        time_s  time_per_1k_samples_s  peak_ram_mb\n",
       "pandas_full           0.174947               0.017486   255.300781\n",
       "pandas_stream         0.957452               0.095697   255.371094\n",
       "dataloader_shuffle    0.248444               0.024832   255.363281\n",
       "dataloader_noshuffle  0.241362               0.024124   255.367188"
      ]
     },
     "execution_count": 26,
     "metadata": {},
     "output_type": "execute_result"
    }
   ],
   "source": [
    "results = {}\n",
    "\n",
    "print(\">> Pandas (lectura completa en memoria) ...\")\n",
    "results[\"pandas_full\"] = run_and_measure_pandas_full(df, batch_size=BATCH_SIZE)\n",
    "print(results[\"pandas_full\"])\n",
    "\n",
    "print(\"\\n>> Pandas (streaming por chunksize) ...\")\n",
    "results[\"pandas_stream\"] = run_and_measure_pandas_streaming(CSV_PATH, chunksize=BATCH_SIZE)\n",
    "print(results[\"pandas_stream\"])\n",
    "\n",
    "print(\"\\n>> PyTorch DataLoader (shuffle=True) ...\")\n",
    "results[\"dataloader_shuffle\"] = run_and_measure_torch_dataloader(loader)\n",
    "print(results[\"dataloader_shuffle\"])\n",
    "\n",
    "print(\"\\n>> PyTorch DataLoader (shuffle=False) ...\")\n",
    "results[\"dataloader_noshuffle\"] = run_and_measure_torch_dataloader(loader_noshuffle)\n",
    "print(results[\"dataloader_noshuffle\"])\n",
    "\n",
    "# Resumen en DataFrame\n",
    "res_df = pd.DataFrame(results).T\n",
    "res_df[\"time_per_1k_samples_s\"] = res_df[\"time_s\"] * (1000.0 / len(dataset_pytorch))\n",
    "res_df = res_df[[\"time_s\", \"time_per_1k_samples_s\", \"peak_ram_mb\"]]\n",
    "res_df"
   ]
  },
  {
   "cell_type": "code",
   "execution_count": 35,
   "id": "dfc0e59a",
   "metadata": {},
   "outputs": [
    {
     "data": {
      "image/png": "[encoded data removed]",
      "text/plain": [
       "<Figure size 640x480 with 1 Axes>"
      ]
     },
     "metadata": {},
     "output_type": "display_data"
    }
   ],
   "source": [
    "import matplotlib.pyplot as plt\n",
    "\n",
    "ax = res_df[[\"time_s\", \"peak_ram_mb\"]].plot(kind=\"bar\", rot=45, title=\"Comparación: Tiempo total y RAM pico\")\n",
    "ax.set_ylabel(\"Tiempo (s) / RAM (MB)\")\n",
    "plt.show()"
   ]
  },
  {
   "cell_type": "markdown",
   "id": "c5b1c52d",
   "metadata": {},
   "source": []
  }
 ],
 "metadata": {
  "kernelspec": {
   "display_name": "Python 3",
   "language": "python",
   "name": "python3"
  },
  "language_info": {
   "codemirror_mode": {
    "name": "ipython",
    "version": 3
   },
   "file_extension": ".py",
   "mimetype": "text/x-python",
   "name": "python",
   "nbconvert_exporter": "python",
   "pygments_lexer": "ipython3",
   "version": "3.12.3"
  }
 },
 "nbformat": 4,
 "nbformat_minor": 5
}
